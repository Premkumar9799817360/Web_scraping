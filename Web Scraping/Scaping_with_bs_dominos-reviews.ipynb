{
 "cells": [
  {
   "cell_type": "code",
   "execution_count": 1,
   "metadata": {},
   "outputs": [],
   "source": [
    "import pandas as pd\n",
    "import requests\n",
    "from bs4 import BeautifulSoup as bs\n"
   ]
  },
  {
   "cell_type": "code",
   "execution_count": 3,
   "metadata": {},
   "outputs": [],
   "source": [
    "# base_url = \"https://www.consumeraffairs.com/food/dominos.html\"\n",
    "# query_parameter = \"?page=\"+str(i)"
   ]
  },
  {
   "cell_type": "code",
   "execution_count": 4,
   "metadata": {},
   "outputs": [],
   "source": [
    "#Create an empty list to store all the scraped reviews\n",
    "\n",
    "all_pages_reviews = []"
   ]
  },
  {
   "cell_type": "code",
   "execution_count": 6,
   "metadata": {},
   "outputs": [],
   "source": [
    "#define a scraper function\n",
    "\n",
    "# def scraper():"
   ]
  },
  {
   "cell_type": "code",
   "execution_count": null,
   "metadata": {},
   "outputs": [],
   "source": [
    "#Inside the scraper function, write a for loop to loop through the number of pages you would like to scrape. I would like to scrape the reviews of five pages.\n",
    "\n",
    "for i in range(1,6):"
   ]
  },
  {
   "cell_type": "code",
   "execution_count": 14,
   "metadata": {},
   "outputs": [],
   "source": [
    "#Creating an empty list to store the reviews of each page(from 1 to 5)\n",
    "\n",
    "pagewise_reviews = []"
   ]
  },
  {
   "cell_type": "code",
   "execution_count": 11,
   "metadata": {},
   "outputs": [],
   "source": [
    "#Construct the URL\n",
    "\n",
    "url = base_url + query_parameter"
   ]
  },
  {
   "cell_type": "code",
   "execution_count": 12,
   "metadata": {},
   "outputs": [],
   "source": [
    "#Send HTTP request to the URL using requests and store the response\n",
    "\n",
    "response = requests.get(url)\n",
    "\n",
    "#Create a soup object and parse the HTML page\n",
    "\n",
    "soup = bs(response.content, 'html.parser')"
   ]
  },
  {
   "cell_type": "code",
   "execution_count": 15,
   "metadata": {},
   "outputs": [],
   "source": [
    "#Find all the div elements of class name “rvw-bd” and store them in a variable\n",
    "\n",
    "rev_div = soup.findAll(\"div\",attrs={\"class\",\"rvw-bd\"})\n",
    "\n",
    "#Loop through all the rev_div and append the review text to the pagewise_reviews list\n",
    "\n",
    "for j in range(len(rev_div)):\n",
    "    # finding all the p tags to fetch only the review text\n",
    "    pagewise_reviews.append(rev_div[j].find(\"p\").text)\n",
    "    \n"
   ]
  },
  {
   "cell_type": "code",
   "execution_count": 16,
   "metadata": {},
   "outputs": [],
   "source": [
    "#Append all pagewise review to a single list “all_pages_reviews”\n",
    "\n",
    "for k in range(len(pagewise_reviews)):\n",
    "    all_pages_reviews.append(pagewise_reviews[k])\n"
   ]
  },
  {
   "cell_type": "code",
   "execution_count": 18,
   "metadata": {
    "scrolled": true
   },
   "outputs": [
    {
     "name": "stdout",
     "output_type": "stream",
     "text": [
      "[\"Review for Dominos del Amo bl, Lakewood CA. Very highly recommended. Horaccio is Very professional and excels in his customer service skills.. 5 stars to him and the other staff there.. My 2nd time getting pizza from there.. The food is fresh and on point really good.. I haven't had that experience at other dominos so I just had to write the reveiw and show my appreciation for getting great and friendly professional service and the good being on point definitely puts this dominos on the top of the list.. Thank you guys. It's the way you treat others is what they remember in any business.. Presentation is everything.. Thank you\", 'I called because my food was cold and not done right and was missing a few items. When I called I was answered by a woman named ** and she was very polite and nice and is resending the items fresh. She was more respectful and polite than any person I have called at Domino’s located at 5100 NC-87 S, Fayetteville, NC 28306.', \"OMG, hands down the best pizza I've had from Domino's pizza in Southaven, MS loaded with toppings, hot when we got it, the best ever. Quick contactlessdelivery. We have ordered from here before but it has never been as good as it was tonight. Whoever they have cooking they need to keep, just wonderful tonight.\", \"This Domino's has the best pizza delivery and customer service that I have seen in all of Greensboro! I have tried all of the pizza delivery services, and domino's was by far the best. They made our orders super quickly, and delivered them even quicker hot and ready. I will definitely be ordering from this domino's in the future!\", 'My Sweetheart & I are very pleased with the quality of the service & excellent Pizzas from the \"Domino\\'s\" located on Central Ave & Thomas rd. here in Phoenix AZ! We ordered 2 large Pizzas from them on 10/21/2020 using my mobile phone, order #1001, and they got EVERYTHING RIGHT! (I rarely make reviews & only when a business is extraordinarily outstanding one way or the other) Not only did they get our order Exactly as requested; Double Pepperoni, Double Cheese, Double Bold & Spicy Sauce on Garlicky Buttery crust along with a Double \"Everything\" Hawaiian that were Both Far Better than anything we\\'ve gotten ANYwhere since the \"Pandemic Crises\" started. FOR HALF THE PRICE! Thank You from Dave & Holly.', 'Absolutely the worst experience I have ever had in my lifetime!!! Poor Customer Service! Uncaring inconsiderate Manager! Poor Order Takers. But They Love Ripping you off! I paid them via debit card $40.00+ for a delivery which they totally botched and when I tried to contact them by phone they hung up on me 6 times!!!! 2nd guy told me to ** Off! I am telling you the Ogden Area Pizza Lovers DO NOT ORDER OR BUY FROM THIS LOUSY STORE - Go somewhere else and save yourself a Bucket Load of Grief!!!!', \"The whole experience was very bad and badly handled. Was very upsetting. Management didn't help with problems. I was treated like I was a liar and in the end they are refusing to deliver to me ever again.\", \"Today while at work I ordered a pizza... I was unable to locate the pizza coupon I sought and therefore called the actual store. When calling after a brief hold I was able to place my order accordingly. The customer representative even recognized my employer's business number and provided awesome customer service. About 10 mins later I was able to arrive at this location for pick-up and the order was ready to be received in a timely fashion. Upon arriving back at my employer and having the Pie in hand I sat down to enjoy this amazing looking pizza. I ate approximately 2 slices and was about to have my 3rd (as I was going to bring the rest home to my children) & it happened... Something fell off the slice while eating! At first I assumed it was a mushroom but the texture and lightness as it fell caused for a closer inspection.\", \"Domino's review. It has really poor service, we didn't get any oregano and chili flakes, it has been almost a year since we always ask the delivery guy but every time the excuse is that it's out of stock, we're tired of this. So please look up to it.\", \"Worst as your quality is going down day by day. I received even not proper baked pizza. No cheese, plain bread even the toppings are not best. I will not recommend anyone your brand as it's going down day by day.\"]\n"
     ]
    }
   ],
   "source": [
    "reviews=print(all_pages_reviews)"
   ]
  },
  {
   "cell_type": "code",
   "execution_count": null,
   "metadata": {},
   "outputs": [],
   "source": [
    "#At the end of the function, return the final list of reviews\n",
    "\n",
    "return all_pages_reviews\n",
    "\n",
    "#Call the function scraper() and store the output to a variable 'reviews'\n",
    "# Driver code\n",
    "reviews = scraper()"
   ]
  },
  {
   "cell_type": "code",
   "execution_count": 20,
   "metadata": {},
   "outputs": [],
   "source": [
    "#Store the data in the required format\n",
    "#storing to a pandas dataframe\n",
    "\n",
    "i = range(1, len(reviews)+1)\n",
    "reviews_df = pd.DataFrame({'review':reviews}, index=i)\n",
    "\n",
    "#Now let us take a glance of our dataset\n",
    "print(reviews_df)"
   ]
  },
  {
   "cell_type": "code",
   "execution_count": null,
   "metadata": {},
   "outputs": [],
   "source": [
    "#Writing the content of the data frame to a text file\n",
    "\n",
    "reviews_df.to_csv('reviews.txt', sep='t')"
   ]
  },
  {
   "cell_type": "code",
   "execution_count": null,
   "metadata": {},
   "outputs": [],
   "source": [
    "query_parameter = \"?page=\"+str(i)"
   ]
  },
  {
   "cell_type": "code",
   "execution_count": 7,
   "metadata": {},
   "outputs": [],
   "source": [
    "base_url = \"https://www.consumeraffairs.com/food/dominos.html\"\n",
    "all_pages_reviews =[]"
   ]
  },
  {
   "cell_type": "code",
   "execution_count": 8,
   "metadata": {},
   "outputs": [],
   "source": [
    "def scraper():\n",
    "    for i in range(1,6): # fetching reviews from five pages\n",
    "        pagewise_reviews = [] \n",
    "        query_parameter = \"?page=\"+str(i)\n",
    "    url = base_url + query_parameter\n",
    "    response = requests.get(url)\n",
    "    soup = bs(response.content, 'html.parser') \n",
    "    rev_div = soup.findAll(\"div\",attrs={\"class\",\"rvw-bd\"}) \n",
    "\n",
    "    \n",
    "    for j in range(len(rev_div)):\n",
    "    # finding all the p tags to fetch only the review text\n",
    "        pagewise_reviews.append(rev_div[j].find(\"p\").text)\n",
    "\n",
    "    for k in range(len(pagewise_reviews)):\n",
    "        all_pages_reviews.append(pagewise_reviews[k]) \n",
    "    return all_pages_reviews\n",
    "    \n",
    "    \n",
    "\n",
    "# Driver code\n",
    "reviews = scraper()\n"
   ]
  },
  {
   "cell_type": "code",
   "execution_count": 9,
   "metadata": {},
   "outputs": [
    {
     "data": {
      "text/plain": [
       "[]"
      ]
     },
     "execution_count": 9,
     "metadata": {},
     "output_type": "execute_result"
    }
   ],
   "source": [
    "reviews"
   ]
  },
  {
   "cell_type": "code",
   "execution_count": 5,
   "metadata": {},
   "outputs": [],
   "source": [
    "i = range(1, len(reviews)+1)\n",
    "reviews_df = pd.DataFrame({'review':reviews}, index=i)\n",
    "reviews_df.to_csv('reviews.csv', sep='t')"
   ]
  },
  {
   "cell_type": "code",
   "execution_count": null,
   "metadata": {},
   "outputs": [],
   "source": []
  }
 ],
 "metadata": {
  "kernelspec": {
   "display_name": "Python 3 (ipykernel)",
   "language": "python",
   "name": "python3"
  },
  "language_info": {
   "codemirror_mode": {
    "name": "ipython",
    "version": 3
   },
   "file_extension": ".py",
   "mimetype": "text/x-python",
   "name": "python",
   "nbconvert_exporter": "python",
   "pygments_lexer": "ipython3",
   "version": "3.11.4"
  }
 },
 "nbformat": 4,
 "nbformat_minor": 2
}
