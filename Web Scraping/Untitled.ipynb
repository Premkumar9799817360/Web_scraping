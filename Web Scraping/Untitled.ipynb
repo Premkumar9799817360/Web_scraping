{
 "cells": [
  {
   "cell_type": "code",
   "execution_count": null,
   "id": "092a32fe",
   "metadata": {},
   "outputs": [],
   "source": [
    "import requests\n",
    "import re\n",
    "from bs4 import BeautifulSoup"
   ]
  },
  {
   "cell_type": "code",
   "execution_count": null,
   "id": "9e74036a",
   "metadata": {},
   "outputs": [],
   "source": [
    "url = \"https://www.myntra.com/men-tshirts?p=1\""
   ]
  },
  {
   "cell_type": "code",
   "execution_count": null,
   "id": "6d3df567",
   "metadata": {},
   "outputs": [],
   "source": [
    "response = requests.get(url)\n",
    "print(response)"
   ]
  },
  {
   "cell_type": "code",
   "execution_count": null,
   "id": "0bd91503",
   "metadata": {},
   "outputs": [],
   "source": [
    "response.text"
   ]
  },
  {
   "cell_type": "code",
   "execution_count": null,
   "id": "8d3fe545",
   "metadata": {},
   "outputs": [],
   "source": [
    "soup = BeautifulSoup(response.text, \"lxml\")"
   ]
  },
  {
   "cell_type": "code",
   "execution_count": null,
   "id": "e277dd0b",
   "metadata": {},
   "outputs": [],
   "source": [
    "soup.prettify()"
   ]
  },
  {
   "cell_type": "code",
   "execution_count": null,
   "id": "84883bb0",
   "metadata": {},
   "outputs": [],
   "source": [
    "#create multiple links for different different page above code is only single link"
   ]
  },
  {
   "cell_type": "code",
   "execution_count": null,
   "id": "7702fe1b",
   "metadata": {},
   "outputs": [],
   "source": [
    "#using for loop\n",
    "for i in range(1,21,1):\n",
    "    urls = \"https://www.meesho.com/search?q=tshirt&searchType=POPULAR_SEARCHES&searchIdentifier=text_search&page=\"+str(i)\n",
    "    print(urls)"
   ]
  },
  {
   "cell_type": "code",
   "execution_count": null,
   "id": "a6da5280",
   "metadata": {},
   "outputs": [],
   "source": [
    "#title like is very too long so i can check all title class link same or not"
   ]
  },
  {
   "cell_type": "code",
   "execution_count": null,
   "id": "bdfd9b7c",
   "metadata": {},
   "outputs": [],
   "source": [
    "class1=\"sc-jSUZER fcDsVC NewProductCardstyled__StyledDesktopProductTitle-sc-6y2tys-5 ejhQZU NewProductCardstyled__StyledDesktopProductTitle-sc-6y2tys-5 ejhQZU\""
   ]
  },
  {
   "cell_type": "code",
   "execution_count": null,
   "id": "41ffc2f2",
   "metadata": {},
   "outputs": [],
   "source": [
    "print(class1)"
   ]
  },
  {
   "cell_type": "code",
   "execution_count": null,
   "id": "fb44e3d7",
   "metadata": {},
   "outputs": [],
   "source": [
    "class2=\"sc-jSUZER fcDsVC NewProductCardstyled__StyledDesktopProductTitle-sc-6y2tys-5 ejhQZU NewProductCardstyled__StyledDesktopProductTitle-sc-6y2tys-5 ejhQZU\""
   ]
  },
  {
   "cell_type": "code",
   "execution_count": null,
   "id": "e8366195",
   "metadata": {},
   "outputs": [],
   "source": [
    "print(class2)"
   ]
  },
  {
   "cell_type": "code",
   "execution_count": null,
   "id": "5a42161f",
   "metadata": {},
   "outputs": [],
   "source": [
    "#using if-else condition for time pass using progamming logic - smile\n",
    "if class1 == class2:\n",
    "    print(\"yes\")\n",
    "else:\n",
    "    print(\"no\")"
   ]
  },
  {
   "cell_type": "code",
   "execution_count": null,
   "id": "74931fd4",
   "metadata": {},
   "outputs": [],
   "source": [
    "print(soup.find_all(class_=\"sc-jSUZER dfDyCw\"))"
   ]
  },
  {
   "cell_type": "code",
   "execution_count": null,
   "id": "043e09ff",
   "metadata": {},
   "outputs": [],
   "source": [
    "# fatch all title from first page \n",
    "title = soup.find_all(\"a\")"
   ]
  },
  {
   "cell_type": "code",
   "execution_count": null,
   "id": "ae587535",
   "metadata": {},
   "outputs": [],
   "source": [
    "print(title)"
   ]
  },
  {
   "cell_type": "code",
   "execution_count": null,
   "id": "9d88e6a4",
   "metadata": {},
   "outputs": [],
   "source": []
  }
 ],
 "metadata": {
  "kernelspec": {
   "display_name": "Python 3 (ipykernel)",
   "language": "python",
   "name": "python3"
  },
  "language_info": {
   "codemirror_mode": {
    "name": "ipython",
    "version": 3
   },
   "file_extension": ".py",
   "mimetype": "text/x-python",
   "name": "python",
   "nbconvert_exporter": "python",
   "pygments_lexer": "ipython3",
   "version": "3.11.4"
  }
 },
 "nbformat": 4,
 "nbformat_minor": 5
}
