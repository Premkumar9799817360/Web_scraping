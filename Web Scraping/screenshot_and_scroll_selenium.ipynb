{
 "cells": [
  {
   "cell_type": "code",
   "execution_count": 4,
   "id": "42d7a077",
   "metadata": {},
   "outputs": [],
   "source": [
    "from selenium import webdriver\n",
    "from selenium.webdriver.common.by import By\n",
    "from selenium.webdriver.support.ui import WebDriverWait\n",
    "from selenium.webdriver.support import expected_conditions as EC\n",
    "from selenium.webdriver.chrome.service import Service as ChromeService"
   ]
  },
  {
   "cell_type": "code",
   "execution_count": 5,
   "id": "ea459dff",
   "metadata": {},
   "outputs": [],
   "source": [
    "option = webdriver.ChromeOptions()\n",
    "\n",
    "chrome_path = r\"C:\\Users\\Prem Kumar\\AppData\\Local\\Programs\\Python\\Python311\\Scripts\\chromedriver.exe\"  # replace path for chrome web driver exe\n",
    "chrome_options = webdriver.ChromeOptions()\n",
    "chrome_service = ChromeService(chrome_path)\n",
    "\n",
    "# Initialize the WebDriver instance\n",
    "driver = webdriver.Chrome(service=chrome_service, options=chrome_options)\n",
    "page = driver.get('https://www.imdb.com/chart/top/') # Getting page HTML through request"
   ]
  },
  {
   "cell_type": "code",
   "execution_count": 6,
   "id": "ad9a3dcd",
   "metadata": {},
   "outputs": [
    {
     "data": {
      "text/plain": [
       "True"
      ]
     },
     "execution_count": 6,
     "metadata": {},
     "output_type": "execute_result"
    }
   ],
   "source": [
    "driver.save_screenshot('screenshot.png')"
   ]
  },
  {
   "cell_type": "code",
   "execution_count": 6,
   "id": "e334b9a5",
   "metadata": {},
   "outputs": [],
   "source": [
    "scrollDown = \"window.scrollBy(0,4000);\"\n",
    "driver.execute_script(scrollDown)"
   ]
  },
  {
   "cell_type": "code",
   "execution_count": null,
   "id": "d825d2b0",
   "metadata": {},
   "outputs": [],
   "source": []
  }
 ],
 "metadata": {
  "kernelspec": {
   "display_name": "Python 3 (ipykernel)",
   "language": "python",
   "name": "python3"
  },
  "language_info": {
   "codemirror_mode": {
    "name": "ipython",
    "version": 3
   },
   "file_extension": ".py",
   "mimetype": "text/x-python",
   "name": "python",
   "nbconvert_exporter": "python",
   "pygments_lexer": "ipython3",
   "version": "3.11.4"
  }
 },
 "nbformat": 4,
 "nbformat_minor": 5
}
