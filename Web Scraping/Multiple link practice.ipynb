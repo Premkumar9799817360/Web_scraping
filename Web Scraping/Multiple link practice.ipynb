{
 "cells": [
  {
   "cell_type": "code",
   "execution_count": null,
   "id": "1d7adab8",
   "metadata": {},
   "outputs": [],
   "source": [
    "\n",
    "import requests\n",
    "from bs4 import BeautifulSoup as bs\n",
    "url=\"https://www.bookswagon.com/promo-best-seller/now-trending/E5B93FF87A87?sid=419753\"\n",
    "response = requests.get(url)\n",
    "soup = bs(response.text, \"html.parser\")"
   ]
  },
  {
   "cell_type": "code",
   "execution_count": 9,
   "id": "38930079",
   "metadata": {},
   "outputs": [],
   "source": [
    "\n",
    "import requests\n",
    "from bs4 import BeautifulSoup as bs"
   ]
  },
  {
   "cell_type": "code",
   "execution_count": 19,
   "id": "ee89a785",
   "metadata": {},
   "outputs": [
    {
     "name": "stdout",
     "output_type": "stream",
     "text": [
      "https://www.bookswagon.com/promo-best-seller/now-trending/E5B93FF87A87?sid=419755\n",
      "https://www.bookswagon.com/promo-best-seller/now-trending/E5B93FF87A87?sid=419756\n",
      "https://www.bookswagon.com/promo-best-seller/now-trending/E5B93FF87A87?sid=419757\n",
      "https://www.bookswagon.com/promo-best-seller/now-trending/E5B93FF87A87?sid=419758\n"
     ]
    }
   ],
   "source": [
    "\n",
    "for j in range(55,59,1):\n",
    "    print(f\"https://www.bookswagon.com/promo-best-seller/now-trending/E5B93FF87A87?sid=4197{j}\")"
   ]
  },
  {
   "cell_type": "code",
   "execution_count": 25,
   "id": "b3885824",
   "metadata": {},
   "outputs": [],
   "source": [
    "for j in range(55,60,1):\n",
    "    url = f\"https://www.bookswagon.com/promo-best-seller/now-trending/E5B93FF87A87?sid=4197{j}\"\n",
    "    response = requests.get(url)\n",
    "    soup = bs(response.text, \"html.parser\")\n",
    "    books_data = []\n",
    "    books = soup.find_all(class_=\"booktitle font-weight-bold\")\n",
    "    for book in books:\n",
    "        name = book.get_text(strip=True)\n",
    "        books_data.append(name)"
   ]
  },
  {
   "cell_type": "code",
   "execution_count": 26,
   "id": "73ee0eea",
   "metadata": {},
   "outputs": [
    {
     "name": "stdout",
     "output_type": "stream",
     "text": [
      "['The Psychology of Money (Gujarati)', 'The 5 AM Club (Gujarati)', 'Rich Dad Poor Dad', \"Man's Search for Meaning: : The classic tribute to hope from the Holocaust (Gujarati)\", 'MRITYUNJAY - TAMIL', 'Good Vibes Good Life (Gujarati)', 'Happiness Unlimited (Gujarati)', 'Unposted Letter']\n"
     ]
    }
   ],
   "source": [
    "print(books_data)"
   ]
  },
  {
   "cell_type": "code",
   "execution_count": 15,
   "id": "5bb00ba6",
   "metadata": {},
   "outputs": [],
   "source": [
    "# print(soup.prettify())"
   ]
  },
  {
   "cell_type": "code",
   "execution_count": 13,
   "id": "42d70140",
   "metadata": {},
   "outputs": [
    {
     "name": "stdout",
     "output_type": "stream",
     "text": [
      "[<span class=\"booktitle font-weight-bold\">The Psychology of Money (Gujarati)</span>, <span class=\"booktitle font-weight-bold\">The 5 AM Club (Gujarati)</span>, <span class=\"booktitle font-weight-bold\">Rich Dad Poor Dad</span>, <span class=\"booktitle font-weight-bold\">Man's Search for Meaning: : The classic tribute to hope from the Holocaust (Gujarati)</span>, <span class=\"booktitle font-weight-bold\">MRITYUNJAY - TAMIL</span>, <span class=\"booktitle font-weight-bold\">Good Vibes Good Life (Gujarati)</span>, <span class=\"booktitle font-weight-bold\">Happiness Unlimited (Gujarati)</span>, <span class=\"booktitle font-weight-bold\">Unposted Letter</span>]\n"
     ]
    }
   ],
   "source": [
    "books = soup.find_all(class_=\"booktitle font-weight-bold\")\n",
    "print(books)"
   ]
  },
  {
   "cell_type": "code",
   "execution_count": null,
   "id": "40238157",
   "metadata": {},
   "outputs": [],
   "source": []
  }
 ],
 "metadata": {
  "kernelspec": {
   "display_name": "Python 3 (ipykernel)",
   "language": "python",
   "name": "python3"
  },
  "language_info": {
   "codemirror_mode": {
    "name": "ipython",
    "version": 3
   },
   "file_extension": ".py",
   "mimetype": "text/x-python",
   "name": "python",
   "nbconvert_exporter": "python",
   "pygments_lexer": "ipython3",
   "version": "3.11.4"
  }
 },
 "nbformat": 4,
 "nbformat_minor": 5
}
